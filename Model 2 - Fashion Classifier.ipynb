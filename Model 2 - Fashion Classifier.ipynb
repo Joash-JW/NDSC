{
 "cells": [
  {
   "cell_type": "code",
   "execution_count": 1,
   "metadata": {},
   "outputs": [],
   "source": [
    "import pandas as pd\n",
    "from sklearn.feature_extraction.text import TfidfVectorizer\n",
    "from sklearn.model_selection import train_test_split\n",
    "from sklearn.metrics import accuracy_score\n",
    "from nltk.corpus import stopwords\n",
    "from sklearn.externals import joblib\n",
    "import re\n",
    "\n",
    "data = pd.read_csv(\"train.csv\")\n",
    "\n",
    "def newCat(x):\n",
    "    if x=='m':\n",
    "        return 2\n",
    "    elif x=='f':\n",
    "        return 1\n",
    "    else:\n",
    "        return 0\n",
    "\n",
    "stop_words = set(stopwords.words('english', 'indonesia'))\n",
    "data['NewCat'] = data.image_path.copy()\n",
    "data.NewCat = data.NewCat.apply(lambda x: newCat(x[0]))\n",
    "data.Category = data.Category.astype('category')\n",
    "\n",
    "fashion_df = data[data.NewCat==1]\n",
    "stop_words = set(stopwords.words('english', 'indonesia'))\n",
    "trainset, valset = train_test_split(fashion_df, test_size=0.3, random_state=1)\n",
    "fashion_x_train = trainset.title\n",
    "y_train = trainset.Category\n",
    "fashion_x_val = valset.title\n",
    "y_val = valset.Category\n",
    "n_gram=(1,1)\n",
    "vectorizer=TfidfVectorizer(stop_words=stop_words, #max_features=vocab_size, \n",
    "                           preprocessor=lambda x: re.sub(r'(\\d[\\d\\.])+', 'NUM', x.lower()),\n",
    "                           binary=True, ngram_range=n_gram)\n",
    "x_train = vectorizer.fit_transform(fashion_x_train)\n",
    "x_val = vectorizer.transform(fashion_x_val)"
   ]
  },
  {
   "cell_type": "code",
   "execution_count": 4,
   "metadata": {},
   "outputs": [
    {
     "name": "stderr",
     "output_type": "stream",
     "text": [
      "/home/NV_KONGJIEWEI/.local/lib/python3.5/site-packages/sklearn/linear_model/logistic.py:433: FutureWarning: Default solver will be changed to 'lbfgs' in 0.22. Specify a solver to silence this warning.\n",
      "  FutureWarning)\n"
     ]
    },
    {
     "data": {
      "text/plain": [
       "LogisticRegression(C=1.0, class_weight=None, dual=False, fit_intercept=True,\n",
       "          intercept_scaling=1, max_iter=100, multi_class='auto',\n",
       "          n_jobs=None, penalty='l2', random_state=1, solver='warn',\n",
       "          tol=0.0001, verbose=0, warm_start=False)"
      ]
     },
     "execution_count": 4,
     "metadata": {},
     "output_type": "execute_result"
    }
   ],
   "source": [
    "from sklearn.ensemble import BaggingClassifier\n",
    "from sklearn.ensemble import RandomForestClassifier\n",
    "from sklearn.ensemble import GradientBoostingClassifier\n",
    "from sklearn.neighbors import KNeighborsClassifier\n",
    "from sklearn.linear_model import LogisticRegression\n",
    "from sklearn.ensemble import VotingClassifier\n",
    "\n",
    "rf = RandomForestClassifier(random_state=1, n_estimators=100)\n",
    "rf.fit(x_train, y_train)\n",
    "bc = BaggingClassifier(random_state=1, n_estimators=100)\n",
    "bc.fit(x_train, y_train)\n",
    "gc = GradientBoostingClassifier(random_state=1, n_estimators=100)\n",
    "gc.fit(x_train, y_train)\n",
    "knn = KNeighborsClassifier()\n",
    "knn.fit(x_train, y_train)\n",
    "lg = LogisticRegression(random_state=1, max_iter=100, multi_class='auto')\n",
    "lg.fit(x_train, y_train)"
   ]
  },
  {
   "cell_type": "code",
   "execution_count": 5,
   "metadata": {},
   "outputs": [
    {
     "name": "stdout",
     "output_type": "stream",
     "text": [
      "0.6411979790930193\n",
      "0.6367222466659587\n",
      "0.590963572089636\n",
      "0.5472227700990729\n",
      "0.6025853044256649\n"
     ]
    }
   ],
   "source": [
    "predictions_rf = rf.predict(x_val)\n",
    "print(accuracy_score(predictions_rf, y_val))\n",
    "predictions_bc = bc.predict(x_val)\n",
    "print(accuracy_score(predictions_bc, y_val))\n",
    "predictions_gc = gc.predict(x_val)\n",
    "print(accuracy_score(predictions_gc, y_val))\n",
    "predictions_knn = knn.predict(x_val)\n",
    "print(accuracy_score(predictions_knn, y_val))\n",
    "predictions_lg = lg.predict(x_val)\n",
    "print(accuracy_score(predictions_lg, y_val))"
   ]
  },
  {
   "cell_type": "code",
   "execution_count": 6,
   "metadata": {},
   "outputs": [
    {
     "name": "stderr",
     "output_type": "stream",
     "text": [
      "/home/NV_KONGJIEWEI/.local/lib/python3.5/site-packages/sklearn/linear_model/logistic.py:433: FutureWarning: Default solver will be changed to 'lbfgs' in 0.22. Specify a solver to silence this warning.\n",
      "  FutureWarning)\n"
     ]
    },
    {
     "name": "stdout",
     "output_type": "stream",
     "text": [
      "0.6413496988363095\n"
     ]
    }
   ],
   "source": [
    "vc = VotingClassifier(estimators=[('bc',bc),('rf',rf),('lg',lg),('gc',gc),('knn',knn)])\n",
    "vc.fit(x_train, y_train)\n",
    "print(accuracy_score(vc.predict(x_val), y_val))"
   ]
  },
  {
   "cell_type": "code",
   "execution_count": 8,
   "metadata": {},
   "outputs": [],
   "source": [
    "test_data = pd.read_csv(\"test.csv\")\n",
    "test_data['NewCat'] = test_data.image_path.copy()\n",
    "test_data.NewCat = test_data.NewCat.apply(lambda x: newCat(x[0]))\n",
    "fashion_test = test_data[test_data.NewCat==1]\n",
    "x_test = vectorizer.transform(fashion_test.title)"
   ]
  },
  {
   "cell_type": "code",
   "execution_count": 9,
   "metadata": {},
   "outputs": [],
   "source": [
    "test_preds = vc.predict(x_test)\n",
    "output = pd.DataFrame({'itemid': fashion_test.itemid,\n",
    "                      'Category': test_preds})\n",
    "output.to_csv('fashion.csv', index=False)"
   ]
  },
  {
   "cell_type": "code",
   "execution_count": null,
   "metadata": {},
   "outputs": [],
   "source": []
  }
 ],
 "metadata": {
  "kernelspec": {
   "display_name": "Python 3",
   "language": "python",
   "name": "python3"
  },
  "language_info": {
   "codemirror_mode": {
    "name": "ipython",
    "version": 3
   },
   "file_extension": ".py",
   "mimetype": "text/x-python",
   "name": "python",
   "nbconvert_exporter": "python",
   "pygments_lexer": "ipython3",
   "version": "3.6.6"
  }
 },
 "nbformat": 4,
 "nbformat_minor": 2
}
