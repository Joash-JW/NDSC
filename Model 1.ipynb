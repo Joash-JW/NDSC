{
 "cells": [
  {
   "cell_type": "code",
   "execution_count": 47,
   "metadata": {},
   "outputs": [],
   "source": [
    "import pandas as pd\n",
    "from sklearn.feature_extraction.text import TfidfVectorizer, CountVectorizer\n",
    "from sklearn.model_selection import train_test_split\n",
    "from sklearn.metrics import accuracy_score\n",
    "from nltk.corpus import stopwords\n",
    "from sklearn.externals import joblib\n",
    "import re\n",
    "\n",
    "data = pd.read_csv(\"train.csv\")\n",
    "\n",
    "def newCat(x):\n",
    "    if x=='m':\n",
    "        return 2\n",
    "    elif x=='f':\n",
    "        return 1\n",
    "    else:\n",
    "        return 0\n",
    "\n",
    "stop_words = set(stopwords.words('english', 'indonesia'))\n",
    "data['NewCat'] = data.image_path.copy()\n",
    "data.NewCat = data.NewCat.apply(lambda x: newCat(x[0]))\n",
    "data.Category = data.Category.astype('category')"
   ]
  },
  {
   "cell_type": "code",
   "execution_count": 62,
   "metadata": {},
   "outputs": [
    {
     "name": "stdout",
     "output_type": "stream",
     "text": [
      "(200608, 19260)\n"
     ]
    }
   ],
   "source": [
    "beauty_df = data[data.NewCat==0]\n",
    "trainset, beauty_val = train_test_split(beauty_df, test_size=0.3, random_state=1, stratify=beauty_df.Category)\n",
    "beauty_x_train = trainset.title\n",
    "beauty_y_train = trainset.Category\n",
    "beauty_vec=TfidfVectorizer(stop_words=stop_words, #max_features=1450, \n",
    "                           preprocessor=lambda x: re.sub(r'(\\d[\\d\\.])+', 'NUM', x.lower()),\n",
    "                           binary=False, ngram_range=(1,1))\n",
    "beauty_x_train = beauty_vec.fit_transform(beauty_x_train)\n",
    "beauty_x_val = beauty_vec.transform(beauty_val.title)\n",
    "del beauty_df\n",
    "print(beauty_x_train.shape)"
   ]
  },
  {
   "cell_type": "code",
   "execution_count": 63,
   "metadata": {},
   "outputs": [
    {
     "name": "stdout",
     "output_type": "stream",
     "text": [
      "(153791, 22133)\n"
     ]
    }
   ],
   "source": [
    "fashion_df = data[data.NewCat==1]\n",
    "trainset, fashion_val = train_test_split(fashion_df, test_size=0.3, random_state=1, stratify=fashion_df.Category)\n",
    "fashion_x_train = trainset.title\n",
    "fashion_y_train = trainset.Category\n",
    "fashion_vec=TfidfVectorizer(stop_words=stop_words, #max_features=1450, \n",
    "                           preprocessor=lambda x: re.sub(r'(\\d[\\d\\.])+', 'NUM', x.lower()),\n",
    "                           binary=False, ngram_range=(1,1))\n",
    "fashion_x_train = fashion_vec.fit_transform(fashion_x_train)\n",
    "fashion_x_val = fashion_vec.transform(fashion_val.title)\n",
    "del fashion_df\n",
    "print(fashion_x_train.shape)"
   ]
  },
  {
   "cell_type": "code",
   "execution_count": 64,
   "metadata": {},
   "outputs": [
    {
     "name": "stdout",
     "output_type": "stream",
     "text": [
      "(112231, 14868)\n"
     ]
    }
   ],
   "source": [
    "mobile_df = data[data.NewCat==2]\n",
    "trainset, mobile_val = train_test_split(mobile_df, test_size=0.3, random_state=1, stratify=mobile_df.Category)\n",
    "mobile_x_train = trainset.title\n",
    "mobile_y_train = trainset.Category\n",
    "mobile_vec=TfidfVectorizer(stop_words=stop_words, #max_features=1450, \n",
    "                           preprocessor=lambda x: re.sub(r'(\\d[\\d\\.])+', 'NUM', x.lower()),\n",
    "                           binary=False, ngram_range=(1,1))\n",
    "mobile_x_train = mobile_vec.fit_transform(mobile_x_train)\n",
    "mobile_x_val = mobile_vec.transform(mobile_val.title)\n",
    "del mobile_df, trainset\n",
    "print(mobile_x_train.shape)"
   ]
  },
  {
   "cell_type": "markdown",
   "metadata": {},
   "source": [
    "## Training"
   ]
  },
  {
   "cell_type": "code",
   "execution_count": 65,
   "metadata": {},
   "outputs": [],
   "source": [
    "from sklearn.ensemble import RandomForestClassifier\n",
    "beauty_rf = RandomForestClassifier(random_state=1, n_jobs=-1, n_estimators=3000)\n",
    "fashion_rf = RandomForestClassifier(random_state=1, n_jobs=-1, n_estimators=3000)\n",
    "mobile_rf = RandomForestClassifier(random_state=1, n_jobs=-1, n_estimators=2000)"
   ]
  },
  {
   "cell_type": "code",
   "execution_count": 66,
   "metadata": {},
   "outputs": [
    {
     "data": {
      "text/plain": [
       "RandomForestClassifier(bootstrap=True, class_weight=None, criterion='gini',\n",
       "            max_depth=None, max_features='auto', max_leaf_nodes=None,\n",
       "            min_impurity_decrease=0.0, min_impurity_split=None,\n",
       "            min_samples_leaf=1, min_samples_split=2,\n",
       "            min_weight_fraction_leaf=0.0, n_estimators=500, n_jobs=-1,\n",
       "            oob_score=False, random_state=1, verbose=0, warm_start=False)"
      ]
     },
     "execution_count": 66,
     "metadata": {},
     "output_type": "execute_result"
    }
   ],
   "source": [
    "beauty_rf.fit(beauty_x_train, beauty_y_train)\n",
    "#joblib.dump(beauty_rf, \"beauty_model.sav\")\n",
    "fashion_rf.fit(fashion_x_train, fashion_y_train)\n",
    "#joblib.dump(fashion_rf, \"fashion_model.sav\")\n",
    "mobile_rf.fit(mobile_x_train, mobile_y_train)\n",
    "#joblib.dump(mobile_rf, \"mobile_model.sav\")"
   ]
  },
  {
   "cell_type": "markdown",
   "metadata": {},
   "source": [
    "## Check Validation Scores"
   ]
  },
  {
   "cell_type": "code",
   "execution_count": 67,
   "metadata": {},
   "outputs": [],
   "source": [
    "predict_beauty = beauty_rf.predict(beauty_x_val)\n",
    "predict_fashion = fashion_rf.predict(fashion_x_val)\n",
    "predict_mobile = mobile_rf.predict(mobile_x_val)"
   ]
  },
  {
   "cell_type": "code",
   "execution_count": 68,
   "metadata": {},
   "outputs": [
    {
     "name": "stdout",
     "output_type": "stream",
     "text": [
      "0.7711078801977319\n",
      "0.6435496351140174\n",
      "0.8071685482026654\n"
     ]
    }
   ],
   "source": [
    "print(accuracy_score(predict_beauty, beauty_val.Category))\n",
    "print(accuracy_score(predict_fashion, fashion_val.Category))\n",
    "print(accuracy_score(predict_mobile, mobile_val.Category))"
   ]
  },
  {
   "cell_type": "code",
   "execution_count": 26,
   "metadata": {},
   "outputs": [],
   "source": [
    "testdata = pd.read_csv(\"test.csv\")\n",
    "testdata['NewCat'] = testdata.image_path.copy()\n",
    "testdata['NewCat'] = testdata['NewCat'].apply(lambda x: newCat(x[0]))\n",
    "\n",
    "beauty_test = testdata[testdata.NewCat==0]\n",
    "fashion_test = testdata[testdata.NewCat==1]\n",
    "mobile_test = testdata[testdata.NewCat==2]\n",
    "    \n",
    "beauty_x_test = beauty_vec.transform(beauty_test.title)\n",
    "fashion_x_test = fashion_vec.transform(fashion_test.title)\n",
    "mobile_x_test = mobile_vec.transform(mobile_test.title)"
   ]
  },
  {
   "cell_type": "code",
   "execution_count": 27,
   "metadata": {},
   "outputs": [],
   "source": [
    "predict_beauty = beauty_rf.predict(beauty_x_test)\n",
    "predict_fashion = fashion_rf.predict(fashion_x_test)\n",
    "predict_mobile = mobile_rf.predict(mobile_x_test)\n",
    "temp1 = pd.DataFrame({'itemid':beauty_test.itemid, 'predictions':predict_beauty})\n",
    "temp2 = pd.DataFrame({'itemid':fashion_test.itemid, 'predictions':predict_fashion})\n",
    "temp3 = pd.DataFrame({'itemid':mobile_test.itemid, 'predictions':predict_mobile})\n",
    "temp = temp1.append(temp2)\n",
    "temp = temp.append(temp3)\n",
    "output = temp.merge(testdata, how='inner')\n",
    "output.to_csv('submission3.csv')"
   ]
  }
 ],
 "metadata": {
  "kernelspec": {
   "display_name": "Python 3",
   "language": "python",
   "name": "python3"
  },
  "language_info": {
   "codemirror_mode": {
    "name": "ipython",
    "version": 3
   },
   "file_extension": ".py",
   "mimetype": "text/x-python",
   "name": "python",
   "nbconvert_exporter": "python",
   "pygments_lexer": "ipython3",
   "version": "3.5.2"
  }
 },
 "nbformat": 4,
 "nbformat_minor": 2
}
