{
 "cells": [
  {
   "cell_type": "code",
   "execution_count": 1,
   "metadata": {},
   "outputs": [],
   "source": [
    "import pandas as pd\n",
    "from sklearn.feature_extraction.text import TfidfVectorizer\n",
    "from sklearn.model_selection import train_test_split\n",
    "from sklearn.metrics import accuracy_score\n",
    "from nltk.corpus import stopwords\n",
    "import re"
   ]
  },
  {
   "cell_type": "code",
   "execution_count": 2,
   "metadata": {},
   "outputs": [],
   "source": [
    "data = pd.read_csv(\"train.csv\")"
   ]
  },
  {
   "cell_type": "markdown",
   "metadata": {},
   "source": [
    "## Feature Engineering {0: Beauty, 1: Fashion, 2: Mobile}"
   ]
  },
  {
   "cell_type": "code",
   "execution_count": 3,
   "metadata": {},
   "outputs": [],
   "source": [
    "def newCat(x):\n",
    "    if x == 'm':\n",
    "        return 2\n",
    "    elif x == 'f':\n",
    "        return 1\n",
    "    else:\n",
    "        return 0\n",
    "\n",
    "data['NewCat'] = data.image_path.copy()\n",
    "data.NewCat = data.NewCat.apply(lambda x: newCat(x[0]))"
   ]
  },
  {
   "cell_type": "markdown",
   "metadata": {},
   "source": [
    "## To Categorical and Label in Binary format"
   ]
  },
  {
   "cell_type": "code",
   "execution_count": 4,
   "metadata": {},
   "outputs": [],
   "source": [
    "data['Category'] = data['Category'].astype('category')"
   ]
  },
  {
   "cell_type": "markdown",
   "metadata": {},
   "source": [
    "## Splitting DataFrame into Beauty"
   ]
  },
  {
   "cell_type": "code",
   "execution_count": 5,
   "metadata": {},
   "outputs": [],
   "source": [
    "beauty_df = data[data.NewCat==0]\n",
    "del data"
   ]
  },
  {
   "cell_type": "markdown",
   "metadata": {},
   "source": [
    "## Stopwords and Tokenize"
   ]
  },
  {
   "cell_type": "code",
   "execution_count": 6,
   "metadata": {},
   "outputs": [],
   "source": [
    "stop_words = set(stopwords.words('english', 'indonesia'))"
   ]
  },
  {
   "cell_type": "markdown",
   "metadata": {},
   "source": [
    "## Train Test Split"
   ]
  },
  {
   "cell_type": "code",
   "execution_count": 9,
   "metadata": {},
   "outputs": [],
   "source": [
    "trainset, valset = train_test_split(beauty_df, test_size=0.3, random_state=1, stratify=beauty_df.Category)\n",
    "del beauty_df"
   ]
  },
  {
   "cell_type": "markdown",
   "metadata": {},
   "source": [
    "## Model"
   ]
  },
  {
   "cell_type": "code",
   "execution_count": 10,
   "metadata": {},
   "outputs": [],
   "source": [
    "from sklearn.ensemble import RandomForestClassifier\n",
    "from sklearn.ensemble import BaggingClassifier\n",
    "from sklearn.ensemble import GradientBoostingClassifier\n",
    "from sklearn.linear_model import LogisticRegression\n",
    "from sklearn.ensemble import VotingClassifier\n",
    "from sklearn.neighbors import KNeighborsClassifier\n",
    "\n",
    "rf = RandomForestClassifier(random_state=1, n_estimators=100)\n",
    "bc = RandomForestClassifier(random_state=1, n_estimators=100)\n",
    "gc = GradientBoostingClassifier(random_state=1, n_estimators=100)\n",
    "knn = KNeighborsClassifier()\n",
    "lg = LogisticRegression(random_state=1, max_iter=100, multi_class='auto')\n",
    "\n",
    "vectorizer = TfidfVectorizer(stop_words=stop_words, binary=False, ngram_range=(1,1),\n",
    "                                 preprocessor=lambda x: re.sub(r'(\\d[\\d\\.])+', 'NUM', x.lower()))\n",
    "x_train = vectorizer.fit_transform(trainset.title)"
   ]
  },
  {
   "cell_type": "code",
   "execution_count": 11,
   "metadata": {},
   "outputs": [
    {
     "name": "stderr",
     "output_type": "stream",
     "text": [
      "c:\\users\\ntu\\appdata\\local\\programs\\python\\python36\\lib\\site-packages\\sklearn\\linear_model\\logistic.py:432: FutureWarning: Default solver will be changed to 'lbfgs' in 0.22. Specify a solver to silence this warning.\n",
      "  FutureWarning)\n"
     ]
    },
    {
     "data": {
      "text/plain": [
       "LogisticRegression(C=1.0, class_weight=None, dual=False, fit_intercept=True,\n",
       "          intercept_scaling=1, max_iter=100, multi_class='auto',\n",
       "          n_jobs=None, penalty='l2', random_state=1, solver='warn',\n",
       "          tol=0.0001, verbose=0, warm_start=False)"
      ]
     },
     "execution_count": 11,
     "metadata": {},
     "output_type": "execute_result"
    }
   ],
   "source": [
    "rf.fit(x_train, trainset.Category)\n",
    "bc.fit(x_train, trainset.Category)\n",
    "gc.fit(x_train, trainset.Category)\n",
    "knn.fit(x_train, trainset.Category)\n",
    "lg.fit(x_train, trainset.Category)"
   ]
  },
  {
   "cell_type": "code",
   "execution_count": 12,
   "metadata": {},
   "outputs": [
    {
     "name": "stdout",
     "output_type": "stream",
     "text": [
      "0.7699214888048851\n",
      "0.7699214888048851\n",
      "0.7409014248328002\n",
      "0.730200639720849\n",
      "0.7566385577202676\n"
     ]
    }
   ],
   "source": [
    "x_val = vectorizer.transform(valset.title)\n",
    "print(accuracy_score(rf.predict(x_val), valset.Category))\n",
    "print(accuracy_score(bc.predict(x_val), valset.Category))\n",
    "print(accuracy_score(gc.predict(x_val), valset.Category))\n",
    "print(accuracy_score(knn.predict(x_val), valset.Category))\n",
    "print(accuracy_score(lg.predict(x_val), valset.Category))"
   ]
  },
  {
   "cell_type": "code",
   "execution_count": 13,
   "metadata": {},
   "outputs": [
    {
     "name": "stderr",
     "output_type": "stream",
     "text": [
      "c:\\users\\ntu\\appdata\\local\\programs\\python\\python36\\lib\\site-packages\\sklearn\\linear_model\\logistic.py:432: FutureWarning: Default solver will be changed to 'lbfgs' in 0.22. Specify a solver to silence this warning.\n",
      "  FutureWarning)\n"
     ]
    },
    {
     "data": {
      "text/plain": [
       "VotingClassifier(estimators=[('rf', RandomForestClassifier(bootstrap=True, class_weight=None, criterion='gini',\n",
       "            max_depth=None, max_features='auto', max_leaf_nodes=None,\n",
       "            min_impurity_decrease=0.0, min_impurity_split=None,\n",
       "            min_samples_leaf=1, min_samples_split=2,\n",
       "            min_we...e, penalty='l2', random_state=1, solver='warn',\n",
       "          tol=0.0001, verbose=0, warm_start=False))],\n",
       "         flatten_transform=None, n_jobs=None, voting='hard', weights=None)"
      ]
     },
     "execution_count": 13,
     "metadata": {},
     "output_type": "execute_result"
    }
   ],
   "source": [
    "vc = VotingClassifier(estimators=[('rf', rf), ('bc', bc), ('gc', gc), ('knn', knn), ('lg', lg)])\n",
    "vc.fit(x_train, trainset.Category)"
   ]
  },
  {
   "cell_type": "code",
   "execution_count": 14,
   "metadata": {},
   "outputs": [
    {
     "name": "stdout",
     "output_type": "stream",
     "text": [
      "0.7737830764757196\n"
     ]
    }
   ],
   "source": [
    "print(accuracy_score(vc.predict(x_val), valset.Category))"
   ]
  },
  {
   "cell_type": "code",
   "execution_count": 15,
   "metadata": {},
   "outputs": [],
   "source": [
    "test_data = pd.read_csv(\"test.csv\")\n",
    "test_data['NewCat'] = test_data.image_path.copy()\n",
    "test_data.NewCat = test_data.NewCat.apply(lambda x: newCat(x[0]))\n",
    "beauty_test = test_data[test_data.NewCat==0]\n",
    "x_test = vectorizer.transform(beauty_test['title'])"
   ]
  },
  {
   "cell_type": "code",
   "execution_count": 17,
   "metadata": {},
   "outputs": [],
   "source": [
    "test_predictions = vc.predict(x_test)\n",
    "output = pd.DataFrame({'itemid': beauty_test['itemid'],\n",
    "                       'Category': test_predictions})\n",
    "output.to_csv('beauty.csv', index=False)"
   ]
  },
  {
   "cell_type": "code",
   "execution_count": null,
   "metadata": {},
   "outputs": [],
   "source": []
  }
 ],
 "metadata": {
  "kernelspec": {
   "display_name": "Python 3",
   "language": "python",
   "name": "python3"
  },
  "language_info": {
   "codemirror_mode": {
    "name": "ipython",
    "version": 3
   },
   "file_extension": ".py",
   "mimetype": "text/x-python",
   "name": "python",
   "nbconvert_exporter": "python",
   "pygments_lexer": "ipython3",
   "version": "3.6.6"
  }
 },
 "nbformat": 4,
 "nbformat_minor": 2
}
